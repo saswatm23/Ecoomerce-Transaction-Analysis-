{
 "cells": [
  {
   "cell_type": "code",
   "execution_count": 1,
   "id": "71a98944",
   "metadata": {},
   "outputs": [],
   "source": [
    "import pandas as pd\n",
    "import seaborn as sns\n",
    "import matplotlib.pyplot as plt"
   ]
  },
  {
   "cell_type": "code",
   "execution_count": 2,
   "id": "84ba2508",
   "metadata": {},
   "outputs": [],
   "source": [
    "customers = pd.read_csv(\"Customers.csv\")\n",
    "products = pd.read_csv(\"Products.csv\")\n",
    "transactions = pd.read_csv(\"Transactions.csv\")"
   ]
  },
  {
   "cell_type": "code",
   "execution_count": 3,
   "id": "423e9b6e",
   "metadata": {},
   "outputs": [
    {
     "data": {
      "text/html": [
       "<div>\n",
       "<style scoped>\n",
       "    .dataframe tbody tr th:only-of-type {\n",
       "        vertical-align: middle;\n",
       "    }\n",
       "\n",
       "    .dataframe tbody tr th {\n",
       "        vertical-align: top;\n",
       "    }\n",
       "\n",
       "    .dataframe thead th {\n",
       "        text-align: right;\n",
       "    }\n",
       "</style>\n",
       "<table border=\"1\" class=\"dataframe\">\n",
       "  <thead>\n",
       "    <tr style=\"text-align: right;\">\n",
       "      <th></th>\n",
       "      <th>CustomerID</th>\n",
       "      <th>CustomerName</th>\n",
       "      <th>Region</th>\n",
       "      <th>SignupDate</th>\n",
       "    </tr>\n",
       "  </thead>\n",
       "  <tbody>\n",
       "    <tr>\n",
       "      <th>0</th>\n",
       "      <td>C0001</td>\n",
       "      <td>Lawrence Carroll</td>\n",
       "      <td>South America</td>\n",
       "      <td>2022-07-10</td>\n",
       "    </tr>\n",
       "    <tr>\n",
       "      <th>1</th>\n",
       "      <td>C0002</td>\n",
       "      <td>Elizabeth Lutz</td>\n",
       "      <td>Asia</td>\n",
       "      <td>2022-02-13</td>\n",
       "    </tr>\n",
       "    <tr>\n",
       "      <th>2</th>\n",
       "      <td>C0003</td>\n",
       "      <td>Michael Rivera</td>\n",
       "      <td>South America</td>\n",
       "      <td>2024-03-07</td>\n",
       "    </tr>\n",
       "    <tr>\n",
       "      <th>3</th>\n",
       "      <td>C0004</td>\n",
       "      <td>Kathleen Rodriguez</td>\n",
       "      <td>South America</td>\n",
       "      <td>2022-10-09</td>\n",
       "    </tr>\n",
       "    <tr>\n",
       "      <th>4</th>\n",
       "      <td>C0005</td>\n",
       "      <td>Laura Weber</td>\n",
       "      <td>Asia</td>\n",
       "      <td>2022-08-15</td>\n",
       "    </tr>\n",
       "  </tbody>\n",
       "</table>\n",
       "</div>"
      ],
      "text/plain": [
       "  CustomerID        CustomerName         Region  SignupDate\n",
       "0      C0001    Lawrence Carroll  South America  2022-07-10\n",
       "1      C0002      Elizabeth Lutz           Asia  2022-02-13\n",
       "2      C0003      Michael Rivera  South America  2024-03-07\n",
       "3      C0004  Kathleen Rodriguez  South America  2022-10-09\n",
       "4      C0005         Laura Weber           Asia  2022-08-15"
      ]
     },
     "execution_count": 3,
     "metadata": {},
     "output_type": "execute_result"
    }
   ],
   "source": [
    "customers.head()"
   ]
  },
  {
   "cell_type": "code",
   "execution_count": 4,
   "id": "49e36ff3",
   "metadata": {},
   "outputs": [
    {
     "data": {
      "text/plain": [
       "(200, 4)"
      ]
     },
     "execution_count": 4,
     "metadata": {},
     "output_type": "execute_result"
    }
   ],
   "source": [
    "customers.shape"
   ]
  },
  {
   "cell_type": "code",
   "execution_count": 5,
   "id": "6b8a7826",
   "metadata": {},
   "outputs": [
    {
     "data": {
      "text/plain": [
       "CustomerID      object\n",
       "CustomerName    object\n",
       "Region          object\n",
       "SignupDate      object\n",
       "dtype: object"
      ]
     },
     "execution_count": 5,
     "metadata": {},
     "output_type": "execute_result"
    }
   ],
   "source": [
    "customers.dtypes"
   ]
  },
  {
   "cell_type": "markdown",
   "id": "078dac2b",
   "metadata": {},
   "source": [
    "#### Let's fix the data type for SignupDate column"
   ]
  },
  {
   "cell_type": "code",
   "execution_count": 6,
   "id": "3c14964b",
   "metadata": {},
   "outputs": [],
   "source": [
    "customers['SignupDate']=pd.to_datetime(customers['SignupDate'],format='%Y-%m-%d')"
   ]
  },
  {
   "cell_type": "code",
   "execution_count": 7,
   "id": "46108f93",
   "metadata": {},
   "outputs": [
    {
     "data": {
      "text/plain": [
       "CustomerID              object\n",
       "CustomerName            object\n",
       "Region                  object\n",
       "SignupDate      datetime64[ns]\n",
       "dtype: object"
      ]
     },
     "execution_count": 7,
     "metadata": {},
     "output_type": "execute_result"
    }
   ],
   "source": [
    "customers.dtypes"
   ]
  },
  {
   "cell_type": "code",
   "execution_count": 8,
   "id": "909ee5c8",
   "metadata": {},
   "outputs": [
    {
     "data": {
      "text/html": [
       "<div>\n",
       "<style scoped>\n",
       "    .dataframe tbody tr th:only-of-type {\n",
       "        vertical-align: middle;\n",
       "    }\n",
       "\n",
       "    .dataframe tbody tr th {\n",
       "        vertical-align: top;\n",
       "    }\n",
       "\n",
       "    .dataframe thead th {\n",
       "        text-align: right;\n",
       "    }\n",
       "</style>\n",
       "<table border=\"1\" class=\"dataframe\">\n",
       "  <thead>\n",
       "    <tr style=\"text-align: right;\">\n",
       "      <th></th>\n",
       "      <th>CustomerID</th>\n",
       "      <th>CustomerName</th>\n",
       "      <th>Region</th>\n",
       "      <th>SignupDate</th>\n",
       "    </tr>\n",
       "  </thead>\n",
       "  <tbody>\n",
       "    <tr>\n",
       "      <th>0</th>\n",
       "      <td>C0001</td>\n",
       "      <td>Lawrence Carroll</td>\n",
       "      <td>South America</td>\n",
       "      <td>2022-07-10</td>\n",
       "    </tr>\n",
       "    <tr>\n",
       "      <th>1</th>\n",
       "      <td>C0002</td>\n",
       "      <td>Elizabeth Lutz</td>\n",
       "      <td>Asia</td>\n",
       "      <td>2022-02-13</td>\n",
       "    </tr>\n",
       "    <tr>\n",
       "      <th>2</th>\n",
       "      <td>C0003</td>\n",
       "      <td>Michael Rivera</td>\n",
       "      <td>South America</td>\n",
       "      <td>2024-03-07</td>\n",
       "    </tr>\n",
       "    <tr>\n",
       "      <th>3</th>\n",
       "      <td>C0004</td>\n",
       "      <td>Kathleen Rodriguez</td>\n",
       "      <td>South America</td>\n",
       "      <td>2022-10-09</td>\n",
       "    </tr>\n",
       "    <tr>\n",
       "      <th>4</th>\n",
       "      <td>C0005</td>\n",
       "      <td>Laura Weber</td>\n",
       "      <td>Asia</td>\n",
       "      <td>2022-08-15</td>\n",
       "    </tr>\n",
       "  </tbody>\n",
       "</table>\n",
       "</div>"
      ],
      "text/plain": [
       "  CustomerID        CustomerName         Region SignupDate\n",
       "0      C0001    Lawrence Carroll  South America 2022-07-10\n",
       "1      C0002      Elizabeth Lutz           Asia 2022-02-13\n",
       "2      C0003      Michael Rivera  South America 2024-03-07\n",
       "3      C0004  Kathleen Rodriguez  South America 2022-10-09\n",
       "4      C0005         Laura Weber           Asia 2022-08-15"
      ]
     },
     "execution_count": 8,
     "metadata": {},
     "output_type": "execute_result"
    }
   ],
   "source": [
    "customers.head()"
   ]
  },
  {
   "cell_type": "code",
   "execution_count": 9,
   "id": "2b8d9c75",
   "metadata": {},
   "outputs": [
    {
     "name": "stderr",
     "output_type": "stream",
     "text": [
      "C:\\Users\\saswa\\AppData\\Local\\Temp\\ipykernel_2156\\1041809761.py:1: FutureWarning: Treating datetime data as categorical rather than numeric in `.describe` is deprecated and will be removed in a future version of pandas. Specify `datetime_is_numeric=True` to silence this warning and adopt the future behavior now.\n",
      "  customers.describe()\n"
     ]
    },
    {
     "data": {
      "text/html": [
       "<div>\n",
       "<style scoped>\n",
       "    .dataframe tbody tr th:only-of-type {\n",
       "        vertical-align: middle;\n",
       "    }\n",
       "\n",
       "    .dataframe tbody tr th {\n",
       "        vertical-align: top;\n",
       "    }\n",
       "\n",
       "    .dataframe thead th {\n",
       "        text-align: right;\n",
       "    }\n",
       "</style>\n",
       "<table border=\"1\" class=\"dataframe\">\n",
       "  <thead>\n",
       "    <tr style=\"text-align: right;\">\n",
       "      <th></th>\n",
       "      <th>CustomerID</th>\n",
       "      <th>CustomerName</th>\n",
       "      <th>Region</th>\n",
       "      <th>SignupDate</th>\n",
       "    </tr>\n",
       "  </thead>\n",
       "  <tbody>\n",
       "    <tr>\n",
       "      <th>count</th>\n",
       "      <td>200</td>\n",
       "      <td>200</td>\n",
       "      <td>200</td>\n",
       "      <td>200</td>\n",
       "    </tr>\n",
       "    <tr>\n",
       "      <th>unique</th>\n",
       "      <td>200</td>\n",
       "      <td>200</td>\n",
       "      <td>4</td>\n",
       "      <td>179</td>\n",
       "    </tr>\n",
       "    <tr>\n",
       "      <th>top</th>\n",
       "      <td>C0001</td>\n",
       "      <td>Lawrence Carroll</td>\n",
       "      <td>South America</td>\n",
       "      <td>2024-11-11 00:00:00</td>\n",
       "    </tr>\n",
       "    <tr>\n",
       "      <th>freq</th>\n",
       "      <td>1</td>\n",
       "      <td>1</td>\n",
       "      <td>59</td>\n",
       "      <td>3</td>\n",
       "    </tr>\n",
       "    <tr>\n",
       "      <th>first</th>\n",
       "      <td>NaN</td>\n",
       "      <td>NaN</td>\n",
       "      <td>NaN</td>\n",
       "      <td>2022-01-22 00:00:00</td>\n",
       "    </tr>\n",
       "    <tr>\n",
       "      <th>last</th>\n",
       "      <td>NaN</td>\n",
       "      <td>NaN</td>\n",
       "      <td>NaN</td>\n",
       "      <td>2024-12-28 00:00:00</td>\n",
       "    </tr>\n",
       "  </tbody>\n",
       "</table>\n",
       "</div>"
      ],
      "text/plain": [
       "       CustomerID      CustomerName         Region           SignupDate\n",
       "count         200               200            200                  200\n",
       "unique        200               200              4                  179\n",
       "top         C0001  Lawrence Carroll  South America  2024-11-11 00:00:00\n",
       "freq            1                 1             59                    3\n",
       "first         NaN               NaN            NaN  2022-01-22 00:00:00\n",
       "last          NaN               NaN            NaN  2024-12-28 00:00:00"
      ]
     },
     "execution_count": 9,
     "metadata": {},
     "output_type": "execute_result"
    }
   ],
   "source": [
    "customers.describe()"
   ]
  },
  {
   "cell_type": "code",
   "execution_count": 10,
   "id": "320a5e6c",
   "metadata": {},
   "outputs": [
    {
     "data": {
      "text/html": [
       "<div>\n",
       "<style scoped>\n",
       "    .dataframe tbody tr th:only-of-type {\n",
       "        vertical-align: middle;\n",
       "    }\n",
       "\n",
       "    .dataframe tbody tr th {\n",
       "        vertical-align: top;\n",
       "    }\n",
       "\n",
       "    .dataframe thead th {\n",
       "        text-align: right;\n",
       "    }\n",
       "</style>\n",
       "<table border=\"1\" class=\"dataframe\">\n",
       "  <thead>\n",
       "    <tr style=\"text-align: right;\">\n",
       "      <th></th>\n",
       "      <th>ProductID</th>\n",
       "      <th>ProductName</th>\n",
       "      <th>Category</th>\n",
       "      <th>Price</th>\n",
       "    </tr>\n",
       "  </thead>\n",
       "  <tbody>\n",
       "    <tr>\n",
       "      <th>0</th>\n",
       "      <td>P001</td>\n",
       "      <td>ActiveWear Biography</td>\n",
       "      <td>Books</td>\n",
       "      <td>169.30</td>\n",
       "    </tr>\n",
       "    <tr>\n",
       "      <th>1</th>\n",
       "      <td>P002</td>\n",
       "      <td>ActiveWear Smartwatch</td>\n",
       "      <td>Electronics</td>\n",
       "      <td>346.30</td>\n",
       "    </tr>\n",
       "    <tr>\n",
       "      <th>2</th>\n",
       "      <td>P003</td>\n",
       "      <td>ComfortLiving Biography</td>\n",
       "      <td>Books</td>\n",
       "      <td>44.12</td>\n",
       "    </tr>\n",
       "    <tr>\n",
       "      <th>3</th>\n",
       "      <td>P004</td>\n",
       "      <td>BookWorld Rug</td>\n",
       "      <td>Home Decor</td>\n",
       "      <td>95.69</td>\n",
       "    </tr>\n",
       "    <tr>\n",
       "      <th>4</th>\n",
       "      <td>P005</td>\n",
       "      <td>TechPro T-Shirt</td>\n",
       "      <td>Clothing</td>\n",
       "      <td>429.31</td>\n",
       "    </tr>\n",
       "  </tbody>\n",
       "</table>\n",
       "</div>"
      ],
      "text/plain": [
       "  ProductID              ProductName     Category   Price\n",
       "0      P001     ActiveWear Biography        Books  169.30\n",
       "1      P002    ActiveWear Smartwatch  Electronics  346.30\n",
       "2      P003  ComfortLiving Biography        Books   44.12\n",
       "3      P004            BookWorld Rug   Home Decor   95.69\n",
       "4      P005          TechPro T-Shirt     Clothing  429.31"
      ]
     },
     "execution_count": 10,
     "metadata": {},
     "output_type": "execute_result"
    }
   ],
   "source": [
    "products.head()"
   ]
  },
  {
   "cell_type": "code",
   "execution_count": 11,
   "id": "624599de",
   "metadata": {},
   "outputs": [
    {
     "data": {
      "text/plain": [
       "(100, 4)"
      ]
     },
     "execution_count": 11,
     "metadata": {},
     "output_type": "execute_result"
    }
   ],
   "source": [
    "products.shape"
   ]
  },
  {
   "cell_type": "code",
   "execution_count": 12,
   "id": "02fceda2",
   "metadata": {},
   "outputs": [
    {
     "data": {
      "text/plain": [
       "ProductID       object\n",
       "ProductName     object\n",
       "Category        object\n",
       "Price          float64\n",
       "dtype: object"
      ]
     },
     "execution_count": 12,
     "metadata": {},
     "output_type": "execute_result"
    }
   ],
   "source": [
    "products.dtypes"
   ]
  },
  {
   "cell_type": "code",
   "execution_count": 13,
   "id": "8f172ebc",
   "metadata": {},
   "outputs": [
    {
     "data": {
      "text/html": [
       "<div>\n",
       "<style scoped>\n",
       "    .dataframe tbody tr th:only-of-type {\n",
       "        vertical-align: middle;\n",
       "    }\n",
       "\n",
       "    .dataframe tbody tr th {\n",
       "        vertical-align: top;\n",
       "    }\n",
       "\n",
       "    .dataframe thead th {\n",
       "        text-align: right;\n",
       "    }\n",
       "</style>\n",
       "<table border=\"1\" class=\"dataframe\">\n",
       "  <thead>\n",
       "    <tr style=\"text-align: right;\">\n",
       "      <th></th>\n",
       "      <th>Price</th>\n",
       "    </tr>\n",
       "  </thead>\n",
       "  <tbody>\n",
       "    <tr>\n",
       "      <th>count</th>\n",
       "      <td>100.000000</td>\n",
       "    </tr>\n",
       "    <tr>\n",
       "      <th>mean</th>\n",
       "      <td>267.551700</td>\n",
       "    </tr>\n",
       "    <tr>\n",
       "      <th>std</th>\n",
       "      <td>143.219383</td>\n",
       "    </tr>\n",
       "    <tr>\n",
       "      <th>min</th>\n",
       "      <td>16.080000</td>\n",
       "    </tr>\n",
       "    <tr>\n",
       "      <th>25%</th>\n",
       "      <td>147.767500</td>\n",
       "    </tr>\n",
       "    <tr>\n",
       "      <th>50%</th>\n",
       "      <td>292.875000</td>\n",
       "    </tr>\n",
       "    <tr>\n",
       "      <th>75%</th>\n",
       "      <td>397.090000</td>\n",
       "    </tr>\n",
       "    <tr>\n",
       "      <th>max</th>\n",
       "      <td>497.760000</td>\n",
       "    </tr>\n",
       "  </tbody>\n",
       "</table>\n",
       "</div>"
      ],
      "text/plain": [
       "            Price\n",
       "count  100.000000\n",
       "mean   267.551700\n",
       "std    143.219383\n",
       "min     16.080000\n",
       "25%    147.767500\n",
       "50%    292.875000\n",
       "75%    397.090000\n",
       "max    497.760000"
      ]
     },
     "execution_count": 13,
     "metadata": {},
     "output_type": "execute_result"
    }
   ],
   "source": [
    "products.describe()"
   ]
  },
  {
   "cell_type": "code",
   "execution_count": 14,
   "id": "44a6e3a9",
   "metadata": {},
   "outputs": [
    {
     "data": {
      "text/html": [
       "<div>\n",
       "<style scoped>\n",
       "    .dataframe tbody tr th:only-of-type {\n",
       "        vertical-align: middle;\n",
       "    }\n",
       "\n",
       "    .dataframe tbody tr th {\n",
       "        vertical-align: top;\n",
       "    }\n",
       "\n",
       "    .dataframe thead th {\n",
       "        text-align: right;\n",
       "    }\n",
       "</style>\n",
       "<table border=\"1\" class=\"dataframe\">\n",
       "  <thead>\n",
       "    <tr style=\"text-align: right;\">\n",
       "      <th></th>\n",
       "      <th>TransactionID</th>\n",
       "      <th>CustomerID</th>\n",
       "      <th>ProductID</th>\n",
       "      <th>TransactionDate</th>\n",
       "      <th>Quantity</th>\n",
       "      <th>TotalValue</th>\n",
       "      <th>Price</th>\n",
       "    </tr>\n",
       "  </thead>\n",
       "  <tbody>\n",
       "    <tr>\n",
       "      <th>0</th>\n",
       "      <td>T00001</td>\n",
       "      <td>C0199</td>\n",
       "      <td>P067</td>\n",
       "      <td>2024-08-25 12:38:23</td>\n",
       "      <td>1</td>\n",
       "      <td>300.68</td>\n",
       "      <td>300.68</td>\n",
       "    </tr>\n",
       "    <tr>\n",
       "      <th>1</th>\n",
       "      <td>T00112</td>\n",
       "      <td>C0146</td>\n",
       "      <td>P067</td>\n",
       "      <td>2024-05-27 22:23:54</td>\n",
       "      <td>1</td>\n",
       "      <td>300.68</td>\n",
       "      <td>300.68</td>\n",
       "    </tr>\n",
       "    <tr>\n",
       "      <th>2</th>\n",
       "      <td>T00166</td>\n",
       "      <td>C0127</td>\n",
       "      <td>P067</td>\n",
       "      <td>2024-04-25 07:38:55</td>\n",
       "      <td>1</td>\n",
       "      <td>300.68</td>\n",
       "      <td>300.68</td>\n",
       "    </tr>\n",
       "    <tr>\n",
       "      <th>3</th>\n",
       "      <td>T00272</td>\n",
       "      <td>C0087</td>\n",
       "      <td>P067</td>\n",
       "      <td>2024-03-26 22:55:37</td>\n",
       "      <td>2</td>\n",
       "      <td>601.36</td>\n",
       "      <td>300.68</td>\n",
       "    </tr>\n",
       "    <tr>\n",
       "      <th>4</th>\n",
       "      <td>T00363</td>\n",
       "      <td>C0070</td>\n",
       "      <td>P067</td>\n",
       "      <td>2024-03-21 15:10:10</td>\n",
       "      <td>3</td>\n",
       "      <td>902.04</td>\n",
       "      <td>300.68</td>\n",
       "    </tr>\n",
       "  </tbody>\n",
       "</table>\n",
       "</div>"
      ],
      "text/plain": [
       "  TransactionID CustomerID ProductID      TransactionDate  Quantity  \\\n",
       "0        T00001      C0199      P067  2024-08-25 12:38:23         1   \n",
       "1        T00112      C0146      P067  2024-05-27 22:23:54         1   \n",
       "2        T00166      C0127      P067  2024-04-25 07:38:55         1   \n",
       "3        T00272      C0087      P067  2024-03-26 22:55:37         2   \n",
       "4        T00363      C0070      P067  2024-03-21 15:10:10         3   \n",
       "\n",
       "   TotalValue   Price  \n",
       "0      300.68  300.68  \n",
       "1      300.68  300.68  \n",
       "2      300.68  300.68  \n",
       "3      601.36  300.68  \n",
       "4      902.04  300.68  "
      ]
     },
     "execution_count": 14,
     "metadata": {},
     "output_type": "execute_result"
    }
   ],
   "source": [
    "transactions.head()"
   ]
  },
  {
   "cell_type": "code",
   "execution_count": 15,
   "id": "d225a8a4",
   "metadata": {},
   "outputs": [
    {
     "data": {
      "text/plain": [
       "(1000, 7)"
      ]
     },
     "execution_count": 15,
     "metadata": {},
     "output_type": "execute_result"
    }
   ],
   "source": [
    "transactions.shape"
   ]
  },
  {
   "cell_type": "code",
   "execution_count": 16,
   "id": "9a487a0c",
   "metadata": {},
   "outputs": [
    {
     "data": {
      "text/plain": [
       "TransactionID       object\n",
       "CustomerID          object\n",
       "ProductID           object\n",
       "TransactionDate     object\n",
       "Quantity             int64\n",
       "TotalValue         float64\n",
       "Price              float64\n",
       "dtype: object"
      ]
     },
     "execution_count": 16,
     "metadata": {},
     "output_type": "execute_result"
    }
   ],
   "source": [
    "transactions.dtypes"
   ]
  },
  {
   "cell_type": "markdown",
   "id": "cae02c77",
   "metadata": {},
   "source": [
    "##### Let's fix TransactionDate column "
   ]
  },
  {
   "cell_type": "code",
   "execution_count": 17,
   "id": "eed554d3",
   "metadata": {},
   "outputs": [],
   "source": [
    "transactions['TransactionDate'] = pd.to_datetime(transactions['TransactionDate'])"
   ]
  },
  {
   "cell_type": "code",
   "execution_count": 18,
   "id": "1358150d",
   "metadata": {},
   "outputs": [
    {
     "data": {
      "text/plain": [
       "TransactionID              object\n",
       "CustomerID                 object\n",
       "ProductID                  object\n",
       "TransactionDate    datetime64[ns]\n",
       "Quantity                    int64\n",
       "TotalValue                float64\n",
       "Price                     float64\n",
       "dtype: object"
      ]
     },
     "execution_count": 18,
     "metadata": {},
     "output_type": "execute_result"
    }
   ],
   "source": [
    "transactions.dtypes"
   ]
  },
  {
   "cell_type": "code",
   "execution_count": 19,
   "id": "401d2f56",
   "metadata": {},
   "outputs": [
    {
     "data": {
      "text/html": [
       "<div>\n",
       "<style scoped>\n",
       "    .dataframe tbody tr th:only-of-type {\n",
       "        vertical-align: middle;\n",
       "    }\n",
       "\n",
       "    .dataframe tbody tr th {\n",
       "        vertical-align: top;\n",
       "    }\n",
       "\n",
       "    .dataframe thead th {\n",
       "        text-align: right;\n",
       "    }\n",
       "</style>\n",
       "<table border=\"1\" class=\"dataframe\">\n",
       "  <thead>\n",
       "    <tr style=\"text-align: right;\">\n",
       "      <th></th>\n",
       "      <th>TransactionID</th>\n",
       "      <th>CustomerID</th>\n",
       "      <th>ProductID</th>\n",
       "      <th>TransactionDate</th>\n",
       "      <th>Quantity</th>\n",
       "      <th>TotalValue</th>\n",
       "      <th>Price</th>\n",
       "    </tr>\n",
       "  </thead>\n",
       "  <tbody>\n",
       "    <tr>\n",
       "      <th>0</th>\n",
       "      <td>T00001</td>\n",
       "      <td>C0199</td>\n",
       "      <td>P067</td>\n",
       "      <td>2024-08-25 12:38:23</td>\n",
       "      <td>1</td>\n",
       "      <td>300.68</td>\n",
       "      <td>300.68</td>\n",
       "    </tr>\n",
       "    <tr>\n",
       "      <th>1</th>\n",
       "      <td>T00112</td>\n",
       "      <td>C0146</td>\n",
       "      <td>P067</td>\n",
       "      <td>2024-05-27 22:23:54</td>\n",
       "      <td>1</td>\n",
       "      <td>300.68</td>\n",
       "      <td>300.68</td>\n",
       "    </tr>\n",
       "    <tr>\n",
       "      <th>2</th>\n",
       "      <td>T00166</td>\n",
       "      <td>C0127</td>\n",
       "      <td>P067</td>\n",
       "      <td>2024-04-25 07:38:55</td>\n",
       "      <td>1</td>\n",
       "      <td>300.68</td>\n",
       "      <td>300.68</td>\n",
       "    </tr>\n",
       "    <tr>\n",
       "      <th>3</th>\n",
       "      <td>T00272</td>\n",
       "      <td>C0087</td>\n",
       "      <td>P067</td>\n",
       "      <td>2024-03-26 22:55:37</td>\n",
       "      <td>2</td>\n",
       "      <td>601.36</td>\n",
       "      <td>300.68</td>\n",
       "    </tr>\n",
       "    <tr>\n",
       "      <th>4</th>\n",
       "      <td>T00363</td>\n",
       "      <td>C0070</td>\n",
       "      <td>P067</td>\n",
       "      <td>2024-03-21 15:10:10</td>\n",
       "      <td>3</td>\n",
       "      <td>902.04</td>\n",
       "      <td>300.68</td>\n",
       "    </tr>\n",
       "  </tbody>\n",
       "</table>\n",
       "</div>"
      ],
      "text/plain": [
       "  TransactionID CustomerID ProductID     TransactionDate  Quantity  \\\n",
       "0        T00001      C0199      P067 2024-08-25 12:38:23         1   \n",
       "1        T00112      C0146      P067 2024-05-27 22:23:54         1   \n",
       "2        T00166      C0127      P067 2024-04-25 07:38:55         1   \n",
       "3        T00272      C0087      P067 2024-03-26 22:55:37         2   \n",
       "4        T00363      C0070      P067 2024-03-21 15:10:10         3   \n",
       "\n",
       "   TotalValue   Price  \n",
       "0      300.68  300.68  \n",
       "1      300.68  300.68  \n",
       "2      300.68  300.68  \n",
       "3      601.36  300.68  \n",
       "4      902.04  300.68  "
      ]
     },
     "execution_count": 19,
     "metadata": {},
     "output_type": "execute_result"
    }
   ],
   "source": [
    "transactions.head()"
   ]
  },
  {
   "cell_type": "markdown",
   "id": "aa05bb11",
   "metadata": {},
   "source": [
    "##### Now that we know about the data , let's take a bird eye view of the data by performing joins"
   ]
  },
  {
   "cell_type": "code",
   "execution_count": 20,
   "id": "5d41f4a6",
   "metadata": {},
   "outputs": [],
   "source": [
    "result = pd.merge(left=pd.merge(left=transactions,right=customers,on='CustomerID',how='inner'),right=products,on='ProductID',how='inner')"
   ]
  },
  {
   "cell_type": "code",
   "execution_count": 21,
   "id": "33a19022",
   "metadata": {},
   "outputs": [
    {
     "data": {
      "text/html": [
       "<div>\n",
       "<style scoped>\n",
       "    .dataframe tbody tr th:only-of-type {\n",
       "        vertical-align: middle;\n",
       "    }\n",
       "\n",
       "    .dataframe tbody tr th {\n",
       "        vertical-align: top;\n",
       "    }\n",
       "\n",
       "    .dataframe thead th {\n",
       "        text-align: right;\n",
       "    }\n",
       "</style>\n",
       "<table border=\"1\" class=\"dataframe\">\n",
       "  <thead>\n",
       "    <tr style=\"text-align: right;\">\n",
       "      <th></th>\n",
       "      <th>TransactionID</th>\n",
       "      <th>CustomerID</th>\n",
       "      <th>ProductID</th>\n",
       "      <th>TransactionDate</th>\n",
       "      <th>Quantity</th>\n",
       "      <th>TotalValue</th>\n",
       "      <th>Price_x</th>\n",
       "      <th>CustomerName</th>\n",
       "      <th>Region</th>\n",
       "      <th>SignupDate</th>\n",
       "      <th>ProductName</th>\n",
       "      <th>Category</th>\n",
       "      <th>Price_y</th>\n",
       "    </tr>\n",
       "  </thead>\n",
       "  <tbody>\n",
       "    <tr>\n",
       "      <th>0</th>\n",
       "      <td>T00001</td>\n",
       "      <td>C0199</td>\n",
       "      <td>P067</td>\n",
       "      <td>2024-08-25 12:38:23</td>\n",
       "      <td>1</td>\n",
       "      <td>300.68</td>\n",
       "      <td>300.68</td>\n",
       "      <td>Andrea Jenkins</td>\n",
       "      <td>Europe</td>\n",
       "      <td>2022-12-03</td>\n",
       "      <td>ComfortLiving Bluetooth Speaker</td>\n",
       "      <td>Electronics</td>\n",
       "      <td>300.68</td>\n",
       "    </tr>\n",
       "    <tr>\n",
       "      <th>1</th>\n",
       "      <td>T00112</td>\n",
       "      <td>C0146</td>\n",
       "      <td>P067</td>\n",
       "      <td>2024-05-27 22:23:54</td>\n",
       "      <td>1</td>\n",
       "      <td>300.68</td>\n",
       "      <td>300.68</td>\n",
       "      <td>Brittany Harvey</td>\n",
       "      <td>Asia</td>\n",
       "      <td>2024-09-04</td>\n",
       "      <td>ComfortLiving Bluetooth Speaker</td>\n",
       "      <td>Electronics</td>\n",
       "      <td>300.68</td>\n",
       "    </tr>\n",
       "    <tr>\n",
       "      <th>2</th>\n",
       "      <td>T00166</td>\n",
       "      <td>C0127</td>\n",
       "      <td>P067</td>\n",
       "      <td>2024-04-25 07:38:55</td>\n",
       "      <td>1</td>\n",
       "      <td>300.68</td>\n",
       "      <td>300.68</td>\n",
       "      <td>Kathryn Stevens</td>\n",
       "      <td>Europe</td>\n",
       "      <td>2024-04-04</td>\n",
       "      <td>ComfortLiving Bluetooth Speaker</td>\n",
       "      <td>Electronics</td>\n",
       "      <td>300.68</td>\n",
       "    </tr>\n",
       "    <tr>\n",
       "      <th>3</th>\n",
       "      <td>T00272</td>\n",
       "      <td>C0087</td>\n",
       "      <td>P067</td>\n",
       "      <td>2024-03-26 22:55:37</td>\n",
       "      <td>2</td>\n",
       "      <td>601.36</td>\n",
       "      <td>300.68</td>\n",
       "      <td>Travis Campbell</td>\n",
       "      <td>South America</td>\n",
       "      <td>2024-04-11</td>\n",
       "      <td>ComfortLiving Bluetooth Speaker</td>\n",
       "      <td>Electronics</td>\n",
       "      <td>300.68</td>\n",
       "    </tr>\n",
       "    <tr>\n",
       "      <th>4</th>\n",
       "      <td>T00363</td>\n",
       "      <td>C0070</td>\n",
       "      <td>P067</td>\n",
       "      <td>2024-03-21 15:10:10</td>\n",
       "      <td>3</td>\n",
       "      <td>902.04</td>\n",
       "      <td>300.68</td>\n",
       "      <td>Timothy Perez</td>\n",
       "      <td>Europe</td>\n",
       "      <td>2022-03-15</td>\n",
       "      <td>ComfortLiving Bluetooth Speaker</td>\n",
       "      <td>Electronics</td>\n",
       "      <td>300.68</td>\n",
       "    </tr>\n",
       "  </tbody>\n",
       "</table>\n",
       "</div>"
      ],
      "text/plain": [
       "  TransactionID CustomerID ProductID     TransactionDate  Quantity  \\\n",
       "0        T00001      C0199      P067 2024-08-25 12:38:23         1   \n",
       "1        T00112      C0146      P067 2024-05-27 22:23:54         1   \n",
       "2        T00166      C0127      P067 2024-04-25 07:38:55         1   \n",
       "3        T00272      C0087      P067 2024-03-26 22:55:37         2   \n",
       "4        T00363      C0070      P067 2024-03-21 15:10:10         3   \n",
       "\n",
       "   TotalValue  Price_x     CustomerName         Region SignupDate  \\\n",
       "0      300.68   300.68   Andrea Jenkins         Europe 2022-12-03   \n",
       "1      300.68   300.68  Brittany Harvey           Asia 2024-09-04   \n",
       "2      300.68   300.68  Kathryn Stevens         Europe 2024-04-04   \n",
       "3      601.36   300.68  Travis Campbell  South America 2024-04-11   \n",
       "4      902.04   300.68    Timothy Perez         Europe 2022-03-15   \n",
       "\n",
       "                       ProductName     Category  Price_y  \n",
       "0  ComfortLiving Bluetooth Speaker  Electronics   300.68  \n",
       "1  ComfortLiving Bluetooth Speaker  Electronics   300.68  \n",
       "2  ComfortLiving Bluetooth Speaker  Electronics   300.68  \n",
       "3  ComfortLiving Bluetooth Speaker  Electronics   300.68  \n",
       "4  ComfortLiving Bluetooth Speaker  Electronics   300.68  "
      ]
     },
     "execution_count": 21,
     "metadata": {},
     "output_type": "execute_result"
    }
   ],
   "source": [
    "result.head()"
   ]
  },
  {
   "cell_type": "code",
   "execution_count": 22,
   "id": "2ed3c4f8",
   "metadata": {},
   "outputs": [
    {
     "data": {
      "text/html": [
       "<div>\n",
       "<style scoped>\n",
       "    .dataframe tbody tr th:only-of-type {\n",
       "        vertical-align: middle;\n",
       "    }\n",
       "\n",
       "    .dataframe tbody tr th {\n",
       "        vertical-align: top;\n",
       "    }\n",
       "\n",
       "    .dataframe thead th {\n",
       "        text-align: right;\n",
       "    }\n",
       "</style>\n",
       "<table border=\"1\" class=\"dataframe\">\n",
       "  <thead>\n",
       "    <tr style=\"text-align: right;\">\n",
       "      <th></th>\n",
       "      <th>TransactionID</th>\n",
       "      <th>CustomerID</th>\n",
       "      <th>ProductID</th>\n",
       "      <th>TransactionDate</th>\n",
       "      <th>Quantity</th>\n",
       "      <th>TotalValue</th>\n",
       "      <th>Price_x</th>\n",
       "      <th>CustomerName</th>\n",
       "      <th>Region</th>\n",
       "      <th>SignupDate</th>\n",
       "      <th>ProductName</th>\n",
       "      <th>Category</th>\n",
       "      <th>Price_y</th>\n",
       "    </tr>\n",
       "  </thead>\n",
       "  <tbody>\n",
       "    <tr>\n",
       "      <th>995</th>\n",
       "      <td>T00630</td>\n",
       "      <td>C0031</td>\n",
       "      <td>P093</td>\n",
       "      <td>2024-10-08 23:58:14</td>\n",
       "      <td>2</td>\n",
       "      <td>609.88</td>\n",
       "      <td>304.94</td>\n",
       "      <td>Tina Miller</td>\n",
       "      <td>South America</td>\n",
       "      <td>2024-04-11</td>\n",
       "      <td>TechPro Vase</td>\n",
       "      <td>Home Decor</td>\n",
       "      <td>304.94</td>\n",
       "    </tr>\n",
       "    <tr>\n",
       "      <th>996</th>\n",
       "      <td>T00672</td>\n",
       "      <td>C0165</td>\n",
       "      <td>P044</td>\n",
       "      <td>2024-07-28 00:09:49</td>\n",
       "      <td>4</td>\n",
       "      <td>75.28</td>\n",
       "      <td>18.82</td>\n",
       "      <td>Juan Mcdaniel</td>\n",
       "      <td>South America</td>\n",
       "      <td>2022-04-09</td>\n",
       "      <td>ActiveWear Running Shoes</td>\n",
       "      <td>Clothing</td>\n",
       "      <td>18.82</td>\n",
       "    </tr>\n",
       "    <tr>\n",
       "      <th>997</th>\n",
       "      <td>T00711</td>\n",
       "      <td>C0165</td>\n",
       "      <td>P044</td>\n",
       "      <td>2024-06-11 15:51:14</td>\n",
       "      <td>4</td>\n",
       "      <td>75.28</td>\n",
       "      <td>18.82</td>\n",
       "      <td>Juan Mcdaniel</td>\n",
       "      <td>South America</td>\n",
       "      <td>2022-04-09</td>\n",
       "      <td>ActiveWear Running Shoes</td>\n",
       "      <td>Clothing</td>\n",
       "      <td>18.82</td>\n",
       "    </tr>\n",
       "    <tr>\n",
       "      <th>998</th>\n",
       "      <td>T00878</td>\n",
       "      <td>C0165</td>\n",
       "      <td>P044</td>\n",
       "      <td>2024-09-24 21:15:21</td>\n",
       "      <td>3</td>\n",
       "      <td>56.46</td>\n",
       "      <td>18.82</td>\n",
       "      <td>Juan Mcdaniel</td>\n",
       "      <td>South America</td>\n",
       "      <td>2022-04-09</td>\n",
       "      <td>ActiveWear Running Shoes</td>\n",
       "      <td>Clothing</td>\n",
       "      <td>18.82</td>\n",
       "    </tr>\n",
       "    <tr>\n",
       "      <th>999</th>\n",
       "      <td>T00157</td>\n",
       "      <td>C0169</td>\n",
       "      <td>P044</td>\n",
       "      <td>2024-11-09 09:07:36</td>\n",
       "      <td>2</td>\n",
       "      <td>37.64</td>\n",
       "      <td>18.82</td>\n",
       "      <td>Jennifer Shaw</td>\n",
       "      <td>South America</td>\n",
       "      <td>2023-04-13</td>\n",
       "      <td>ActiveWear Running Shoes</td>\n",
       "      <td>Clothing</td>\n",
       "      <td>18.82</td>\n",
       "    </tr>\n",
       "  </tbody>\n",
       "</table>\n",
       "</div>"
      ],
      "text/plain": [
       "    TransactionID CustomerID ProductID     TransactionDate  Quantity  \\\n",
       "995        T00630      C0031      P093 2024-10-08 23:58:14         2   \n",
       "996        T00672      C0165      P044 2024-07-28 00:09:49         4   \n",
       "997        T00711      C0165      P044 2024-06-11 15:51:14         4   \n",
       "998        T00878      C0165      P044 2024-09-24 21:15:21         3   \n",
       "999        T00157      C0169      P044 2024-11-09 09:07:36         2   \n",
       "\n",
       "     TotalValue  Price_x   CustomerName         Region SignupDate  \\\n",
       "995      609.88   304.94    Tina Miller  South America 2024-04-11   \n",
       "996       75.28    18.82  Juan Mcdaniel  South America 2022-04-09   \n",
       "997       75.28    18.82  Juan Mcdaniel  South America 2022-04-09   \n",
       "998       56.46    18.82  Juan Mcdaniel  South America 2022-04-09   \n",
       "999       37.64    18.82  Jennifer Shaw  South America 2023-04-13   \n",
       "\n",
       "                  ProductName    Category  Price_y  \n",
       "995              TechPro Vase  Home Decor   304.94  \n",
       "996  ActiveWear Running Shoes    Clothing    18.82  \n",
       "997  ActiveWear Running Shoes    Clothing    18.82  \n",
       "998  ActiveWear Running Shoes    Clothing    18.82  \n",
       "999  ActiveWear Running Shoes    Clothing    18.82  "
      ]
     },
     "execution_count": 22,
     "metadata": {},
     "output_type": "execute_result"
    }
   ],
   "source": [
    "result.tail()"
   ]
  },
  {
   "cell_type": "markdown",
   "id": "202c2f09",
   "metadata": {},
   "source": [
    "##### Let's set TransactionID as index and as we have two price columns we'll drop one."
   ]
  },
  {
   "cell_type": "code",
   "execution_count": 23,
   "id": "360c3b1a",
   "metadata": {},
   "outputs": [],
   "source": [
    "result.set_index('TransactionID',inplace=True) "
   ]
  },
  {
   "cell_type": "code",
   "execution_count": 24,
   "id": "42d80990",
   "metadata": {},
   "outputs": [],
   "source": [
    "result.drop(columns='Price_x',axis=1,inplace=True)"
   ]
  },
  {
   "cell_type": "code",
   "execution_count": 25,
   "id": "0be82c3a",
   "metadata": {},
   "outputs": [],
   "source": [
    "result.rename(columns={'Price_y':'Price'},inplace=True)"
   ]
  },
  {
   "cell_type": "code",
   "execution_count": 26,
   "id": "3232a5a3",
   "metadata": {},
   "outputs": [
    {
     "data": {
      "text/html": [
       "<div>\n",
       "<style scoped>\n",
       "    .dataframe tbody tr th:only-of-type {\n",
       "        vertical-align: middle;\n",
       "    }\n",
       "\n",
       "    .dataframe tbody tr th {\n",
       "        vertical-align: top;\n",
       "    }\n",
       "\n",
       "    .dataframe thead th {\n",
       "        text-align: right;\n",
       "    }\n",
       "</style>\n",
       "<table border=\"1\" class=\"dataframe\">\n",
       "  <thead>\n",
       "    <tr style=\"text-align: right;\">\n",
       "      <th></th>\n",
       "      <th>CustomerID</th>\n",
       "      <th>ProductID</th>\n",
       "      <th>TransactionDate</th>\n",
       "      <th>Quantity</th>\n",
       "      <th>TotalValue</th>\n",
       "      <th>CustomerName</th>\n",
       "      <th>Region</th>\n",
       "      <th>SignupDate</th>\n",
       "      <th>ProductName</th>\n",
       "      <th>Category</th>\n",
       "      <th>Price</th>\n",
       "    </tr>\n",
       "    <tr>\n",
       "      <th>TransactionID</th>\n",
       "      <th></th>\n",
       "      <th></th>\n",
       "      <th></th>\n",
       "      <th></th>\n",
       "      <th></th>\n",
       "      <th></th>\n",
       "      <th></th>\n",
       "      <th></th>\n",
       "      <th></th>\n",
       "      <th></th>\n",
       "      <th></th>\n",
       "    </tr>\n",
       "  </thead>\n",
       "  <tbody>\n",
       "    <tr>\n",
       "      <th>T00001</th>\n",
       "      <td>C0199</td>\n",
       "      <td>P067</td>\n",
       "      <td>2024-08-25 12:38:23</td>\n",
       "      <td>1</td>\n",
       "      <td>300.68</td>\n",
       "      <td>Andrea Jenkins</td>\n",
       "      <td>Europe</td>\n",
       "      <td>2022-12-03</td>\n",
       "      <td>ComfortLiving Bluetooth Speaker</td>\n",
       "      <td>Electronics</td>\n",
       "      <td>300.68</td>\n",
       "    </tr>\n",
       "    <tr>\n",
       "      <th>T00112</th>\n",
       "      <td>C0146</td>\n",
       "      <td>P067</td>\n",
       "      <td>2024-05-27 22:23:54</td>\n",
       "      <td>1</td>\n",
       "      <td>300.68</td>\n",
       "      <td>Brittany Harvey</td>\n",
       "      <td>Asia</td>\n",
       "      <td>2024-09-04</td>\n",
       "      <td>ComfortLiving Bluetooth Speaker</td>\n",
       "      <td>Electronics</td>\n",
       "      <td>300.68</td>\n",
       "    </tr>\n",
       "    <tr>\n",
       "      <th>T00166</th>\n",
       "      <td>C0127</td>\n",
       "      <td>P067</td>\n",
       "      <td>2024-04-25 07:38:55</td>\n",
       "      <td>1</td>\n",
       "      <td>300.68</td>\n",
       "      <td>Kathryn Stevens</td>\n",
       "      <td>Europe</td>\n",
       "      <td>2024-04-04</td>\n",
       "      <td>ComfortLiving Bluetooth Speaker</td>\n",
       "      <td>Electronics</td>\n",
       "      <td>300.68</td>\n",
       "    </tr>\n",
       "    <tr>\n",
       "      <th>T00272</th>\n",
       "      <td>C0087</td>\n",
       "      <td>P067</td>\n",
       "      <td>2024-03-26 22:55:37</td>\n",
       "      <td>2</td>\n",
       "      <td>601.36</td>\n",
       "      <td>Travis Campbell</td>\n",
       "      <td>South America</td>\n",
       "      <td>2024-04-11</td>\n",
       "      <td>ComfortLiving Bluetooth Speaker</td>\n",
       "      <td>Electronics</td>\n",
       "      <td>300.68</td>\n",
       "    </tr>\n",
       "    <tr>\n",
       "      <th>T00363</th>\n",
       "      <td>C0070</td>\n",
       "      <td>P067</td>\n",
       "      <td>2024-03-21 15:10:10</td>\n",
       "      <td>3</td>\n",
       "      <td>902.04</td>\n",
       "      <td>Timothy Perez</td>\n",
       "      <td>Europe</td>\n",
       "      <td>2022-03-15</td>\n",
       "      <td>ComfortLiving Bluetooth Speaker</td>\n",
       "      <td>Electronics</td>\n",
       "      <td>300.68</td>\n",
       "    </tr>\n",
       "  </tbody>\n",
       "</table>\n",
       "</div>"
      ],
      "text/plain": [
       "              CustomerID ProductID     TransactionDate  Quantity  TotalValue  \\\n",
       "TransactionID                                                                  \n",
       "T00001             C0199      P067 2024-08-25 12:38:23         1      300.68   \n",
       "T00112             C0146      P067 2024-05-27 22:23:54         1      300.68   \n",
       "T00166             C0127      P067 2024-04-25 07:38:55         1      300.68   \n",
       "T00272             C0087      P067 2024-03-26 22:55:37         2      601.36   \n",
       "T00363             C0070      P067 2024-03-21 15:10:10         3      902.04   \n",
       "\n",
       "                  CustomerName         Region SignupDate  \\\n",
       "TransactionID                                              \n",
       "T00001          Andrea Jenkins         Europe 2022-12-03   \n",
       "T00112         Brittany Harvey           Asia 2024-09-04   \n",
       "T00166         Kathryn Stevens         Europe 2024-04-04   \n",
       "T00272         Travis Campbell  South America 2024-04-11   \n",
       "T00363           Timothy Perez         Europe 2022-03-15   \n",
       "\n",
       "                                   ProductName     Category   Price  \n",
       "TransactionID                                                        \n",
       "T00001         ComfortLiving Bluetooth Speaker  Electronics  300.68  \n",
       "T00112         ComfortLiving Bluetooth Speaker  Electronics  300.68  \n",
       "T00166         ComfortLiving Bluetooth Speaker  Electronics  300.68  \n",
       "T00272         ComfortLiving Bluetooth Speaker  Electronics  300.68  \n",
       "T00363         ComfortLiving Bluetooth Speaker  Electronics  300.68  "
      ]
     },
     "execution_count": 26,
     "metadata": {},
     "output_type": "execute_result"
    }
   ],
   "source": [
    "result.head()"
   ]
  },
  {
   "cell_type": "markdown",
   "id": "91a0d2d2",
   "metadata": {},
   "source": [
    "##### Let's change the order of the columns to have a prominent view"
   ]
  },
  {
   "cell_type": "code",
   "execution_count": 27,
   "id": "b37701a9",
   "metadata": {},
   "outputs": [
    {
     "data": {
      "text/plain": [
       "Index(['CustomerID', 'ProductID', 'TransactionDate', 'Quantity', 'TotalValue',\n",
       "       'CustomerName', 'Region', 'SignupDate', 'ProductName', 'Category',\n",
       "       'Price'],\n",
       "      dtype='object')"
      ]
     },
     "execution_count": 27,
     "metadata": {},
     "output_type": "execute_result"
    }
   ],
   "source": [
    "result.columns"
   ]
  },
  {
   "cell_type": "code",
   "execution_count": 28,
   "id": "a064c4e9",
   "metadata": {},
   "outputs": [],
   "source": [
    "ordered_result = result[['CustomerID','CustomerName','Region','SignupDate','ProductID','ProductName','Category','TransactionDate','Price','Quantity','TotalValue']]"
   ]
  },
  {
   "cell_type": "code",
   "execution_count": 29,
   "id": "02f4b847",
   "metadata": {},
   "outputs": [
    {
     "data": {
      "text/html": [
       "<div>\n",
       "<style scoped>\n",
       "    .dataframe tbody tr th:only-of-type {\n",
       "        vertical-align: middle;\n",
       "    }\n",
       "\n",
       "    .dataframe tbody tr th {\n",
       "        vertical-align: top;\n",
       "    }\n",
       "\n",
       "    .dataframe thead th {\n",
       "        text-align: right;\n",
       "    }\n",
       "</style>\n",
       "<table border=\"1\" class=\"dataframe\">\n",
       "  <thead>\n",
       "    <tr style=\"text-align: right;\">\n",
       "      <th></th>\n",
       "      <th>CustomerID</th>\n",
       "      <th>CustomerName</th>\n",
       "      <th>Region</th>\n",
       "      <th>SignupDate</th>\n",
       "      <th>ProductID</th>\n",
       "      <th>ProductName</th>\n",
       "      <th>Category</th>\n",
       "      <th>TransactionDate</th>\n",
       "      <th>Price</th>\n",
       "      <th>Quantity</th>\n",
       "      <th>TotalValue</th>\n",
       "    </tr>\n",
       "    <tr>\n",
       "      <th>TransactionID</th>\n",
       "      <th></th>\n",
       "      <th></th>\n",
       "      <th></th>\n",
       "      <th></th>\n",
       "      <th></th>\n",
       "      <th></th>\n",
       "      <th></th>\n",
       "      <th></th>\n",
       "      <th></th>\n",
       "      <th></th>\n",
       "      <th></th>\n",
       "    </tr>\n",
       "  </thead>\n",
       "  <tbody>\n",
       "    <tr>\n",
       "      <th>T00001</th>\n",
       "      <td>C0199</td>\n",
       "      <td>Andrea Jenkins</td>\n",
       "      <td>Europe</td>\n",
       "      <td>2022-12-03</td>\n",
       "      <td>P067</td>\n",
       "      <td>ComfortLiving Bluetooth Speaker</td>\n",
       "      <td>Electronics</td>\n",
       "      <td>2024-08-25 12:38:23</td>\n",
       "      <td>300.68</td>\n",
       "      <td>1</td>\n",
       "      <td>300.68</td>\n",
       "    </tr>\n",
       "    <tr>\n",
       "      <th>T00112</th>\n",
       "      <td>C0146</td>\n",
       "      <td>Brittany Harvey</td>\n",
       "      <td>Asia</td>\n",
       "      <td>2024-09-04</td>\n",
       "      <td>P067</td>\n",
       "      <td>ComfortLiving Bluetooth Speaker</td>\n",
       "      <td>Electronics</td>\n",
       "      <td>2024-05-27 22:23:54</td>\n",
       "      <td>300.68</td>\n",
       "      <td>1</td>\n",
       "      <td>300.68</td>\n",
       "    </tr>\n",
       "    <tr>\n",
       "      <th>T00166</th>\n",
       "      <td>C0127</td>\n",
       "      <td>Kathryn Stevens</td>\n",
       "      <td>Europe</td>\n",
       "      <td>2024-04-04</td>\n",
       "      <td>P067</td>\n",
       "      <td>ComfortLiving Bluetooth Speaker</td>\n",
       "      <td>Electronics</td>\n",
       "      <td>2024-04-25 07:38:55</td>\n",
       "      <td>300.68</td>\n",
       "      <td>1</td>\n",
       "      <td>300.68</td>\n",
       "    </tr>\n",
       "  </tbody>\n",
       "</table>\n",
       "</div>"
      ],
      "text/plain": [
       "              CustomerID     CustomerName  Region SignupDate ProductID  \\\n",
       "TransactionID                                                            \n",
       "T00001             C0199   Andrea Jenkins  Europe 2022-12-03      P067   \n",
       "T00112             C0146  Brittany Harvey    Asia 2024-09-04      P067   \n",
       "T00166             C0127  Kathryn Stevens  Europe 2024-04-04      P067   \n",
       "\n",
       "                                   ProductName     Category  \\\n",
       "TransactionID                                                 \n",
       "T00001         ComfortLiving Bluetooth Speaker  Electronics   \n",
       "T00112         ComfortLiving Bluetooth Speaker  Electronics   \n",
       "T00166         ComfortLiving Bluetooth Speaker  Electronics   \n",
       "\n",
       "                  TransactionDate   Price  Quantity  TotalValue  \n",
       "TransactionID                                                    \n",
       "T00001        2024-08-25 12:38:23  300.68         1      300.68  \n",
       "T00112        2024-05-27 22:23:54  300.68         1      300.68  \n",
       "T00166        2024-04-25 07:38:55  300.68         1      300.68  "
      ]
     },
     "execution_count": 29,
     "metadata": {},
     "output_type": "execute_result"
    }
   ],
   "source": [
    "ordered_result.head(3)"
   ]
  },
  {
   "cell_type": "code",
   "execution_count": 30,
   "id": "8e982602",
   "metadata": {
    "scrolled": true
   },
   "outputs": [
    {
     "data": {
      "text/html": [
       "<div>\n",
       "<style scoped>\n",
       "    .dataframe tbody tr th:only-of-type {\n",
       "        vertical-align: middle;\n",
       "    }\n",
       "\n",
       "    .dataframe tbody tr th {\n",
       "        vertical-align: top;\n",
       "    }\n",
       "\n",
       "    .dataframe thead th {\n",
       "        text-align: right;\n",
       "    }\n",
       "</style>\n",
       "<table border=\"1\" class=\"dataframe\">\n",
       "  <thead>\n",
       "    <tr style=\"text-align: right;\">\n",
       "      <th></th>\n",
       "      <th>CustomerID</th>\n",
       "      <th>CustomerName</th>\n",
       "      <th>Region</th>\n",
       "      <th>SignupDate</th>\n",
       "      <th>ProductID</th>\n",
       "      <th>ProductName</th>\n",
       "      <th>Category</th>\n",
       "      <th>TransactionDate</th>\n",
       "      <th>Price</th>\n",
       "      <th>Quantity</th>\n",
       "      <th>TotalValue</th>\n",
       "    </tr>\n",
       "    <tr>\n",
       "      <th>TransactionID</th>\n",
       "      <th></th>\n",
       "      <th></th>\n",
       "      <th></th>\n",
       "      <th></th>\n",
       "      <th></th>\n",
       "      <th></th>\n",
       "      <th></th>\n",
       "      <th></th>\n",
       "      <th></th>\n",
       "      <th></th>\n",
       "      <th></th>\n",
       "    </tr>\n",
       "  </thead>\n",
       "  <tbody>\n",
       "    <tr>\n",
       "      <th>T00711</th>\n",
       "      <td>C0165</td>\n",
       "      <td>Juan Mcdaniel</td>\n",
       "      <td>South America</td>\n",
       "      <td>2022-04-09</td>\n",
       "      <td>P044</td>\n",
       "      <td>ActiveWear Running Shoes</td>\n",
       "      <td>Clothing</td>\n",
       "      <td>2024-06-11 15:51:14</td>\n",
       "      <td>18.82</td>\n",
       "      <td>4</td>\n",
       "      <td>75.28</td>\n",
       "    </tr>\n",
       "    <tr>\n",
       "      <th>T00878</th>\n",
       "      <td>C0165</td>\n",
       "      <td>Juan Mcdaniel</td>\n",
       "      <td>South America</td>\n",
       "      <td>2022-04-09</td>\n",
       "      <td>P044</td>\n",
       "      <td>ActiveWear Running Shoes</td>\n",
       "      <td>Clothing</td>\n",
       "      <td>2024-09-24 21:15:21</td>\n",
       "      <td>18.82</td>\n",
       "      <td>3</td>\n",
       "      <td>56.46</td>\n",
       "    </tr>\n",
       "    <tr>\n",
       "      <th>T00157</th>\n",
       "      <td>C0169</td>\n",
       "      <td>Jennifer Shaw</td>\n",
       "      <td>South America</td>\n",
       "      <td>2023-04-13</td>\n",
       "      <td>P044</td>\n",
       "      <td>ActiveWear Running Shoes</td>\n",
       "      <td>Clothing</td>\n",
       "      <td>2024-11-09 09:07:36</td>\n",
       "      <td>18.82</td>\n",
       "      <td>2</td>\n",
       "      <td>37.64</td>\n",
       "    </tr>\n",
       "  </tbody>\n",
       "</table>\n",
       "</div>"
      ],
      "text/plain": [
       "              CustomerID   CustomerName         Region SignupDate ProductID  \\\n",
       "TransactionID                                                                 \n",
       "T00711             C0165  Juan Mcdaniel  South America 2022-04-09      P044   \n",
       "T00878             C0165  Juan Mcdaniel  South America 2022-04-09      P044   \n",
       "T00157             C0169  Jennifer Shaw  South America 2023-04-13      P044   \n",
       "\n",
       "                            ProductName  Category     TransactionDate  Price  \\\n",
       "TransactionID                                                                  \n",
       "T00711         ActiveWear Running Shoes  Clothing 2024-06-11 15:51:14  18.82   \n",
       "T00878         ActiveWear Running Shoes  Clothing 2024-09-24 21:15:21  18.82   \n",
       "T00157         ActiveWear Running Shoes  Clothing 2024-11-09 09:07:36  18.82   \n",
       "\n",
       "               Quantity  TotalValue  \n",
       "TransactionID                        \n",
       "T00711                4       75.28  \n",
       "T00878                3       56.46  \n",
       "T00157                2       37.64  "
      ]
     },
     "execution_count": 30,
     "metadata": {},
     "output_type": "execute_result"
    }
   ],
   "source": [
    "ordered_result.tail(3)"
   ]
  },
  {
   "cell_type": "code",
   "execution_count": 31,
   "id": "ab7ba6cf",
   "metadata": {},
   "outputs": [
    {
     "name": "stderr",
     "output_type": "stream",
     "text": [
      "C:\\Users\\saswa\\AppData\\Local\\Temp\\ipykernel_2156\\924701636.py:1: SettingWithCopyWarning: \n",
      "A value is trying to be set on a copy of a slice from a DataFrame.\n",
      "Try using .loc[row_indexer,col_indexer] = value instead\n",
      "\n",
      "See the caveats in the documentation: https://pandas.pydata.org/pandas-docs/stable/user_guide/indexing.html#returning-a-view-versus-a-copy\n",
      "  ordered_result['Quater'] = ordered_result[\"TransactionDate\"].dt.to_period(\"Q\")\n"
     ]
    }
   ],
   "source": [
    "ordered_result['Quater'] = ordered_result[\"TransactionDate\"].dt.to_period(\"Q\")"
   ]
  },
  {
   "cell_type": "code",
   "execution_count": 32,
   "id": "feab61a7",
   "metadata": {},
   "outputs": [
    {
     "data": {
      "text/html": [
       "<div>\n",
       "<style scoped>\n",
       "    .dataframe tbody tr th:only-of-type {\n",
       "        vertical-align: middle;\n",
       "    }\n",
       "\n",
       "    .dataframe tbody tr th {\n",
       "        vertical-align: top;\n",
       "    }\n",
       "\n",
       "    .dataframe thead th {\n",
       "        text-align: right;\n",
       "    }\n",
       "</style>\n",
       "<table border=\"1\" class=\"dataframe\">\n",
       "  <thead>\n",
       "    <tr style=\"text-align: right;\">\n",
       "      <th></th>\n",
       "      <th>CustomerID</th>\n",
       "      <th>CustomerName</th>\n",
       "      <th>Region</th>\n",
       "      <th>SignupDate</th>\n",
       "      <th>ProductID</th>\n",
       "      <th>ProductName</th>\n",
       "      <th>Category</th>\n",
       "      <th>TransactionDate</th>\n",
       "      <th>Price</th>\n",
       "      <th>Quantity</th>\n",
       "      <th>TotalValue</th>\n",
       "      <th>Quater</th>\n",
       "    </tr>\n",
       "    <tr>\n",
       "      <th>TransactionID</th>\n",
       "      <th></th>\n",
       "      <th></th>\n",
       "      <th></th>\n",
       "      <th></th>\n",
       "      <th></th>\n",
       "      <th></th>\n",
       "      <th></th>\n",
       "      <th></th>\n",
       "      <th></th>\n",
       "      <th></th>\n",
       "      <th></th>\n",
       "      <th></th>\n",
       "    </tr>\n",
       "  </thead>\n",
       "  <tbody>\n",
       "    <tr>\n",
       "      <th>T00001</th>\n",
       "      <td>C0199</td>\n",
       "      <td>Andrea Jenkins</td>\n",
       "      <td>Europe</td>\n",
       "      <td>2022-12-03</td>\n",
       "      <td>P067</td>\n",
       "      <td>ComfortLiving Bluetooth Speaker</td>\n",
       "      <td>Electronics</td>\n",
       "      <td>2024-08-25 12:38:23</td>\n",
       "      <td>300.68</td>\n",
       "      <td>1</td>\n",
       "      <td>300.68</td>\n",
       "      <td>2024Q3</td>\n",
       "    </tr>\n",
       "    <tr>\n",
       "      <th>T00112</th>\n",
       "      <td>C0146</td>\n",
       "      <td>Brittany Harvey</td>\n",
       "      <td>Asia</td>\n",
       "      <td>2024-09-04</td>\n",
       "      <td>P067</td>\n",
       "      <td>ComfortLiving Bluetooth Speaker</td>\n",
       "      <td>Electronics</td>\n",
       "      <td>2024-05-27 22:23:54</td>\n",
       "      <td>300.68</td>\n",
       "      <td>1</td>\n",
       "      <td>300.68</td>\n",
       "      <td>2024Q2</td>\n",
       "    </tr>\n",
       "    <tr>\n",
       "      <th>T00166</th>\n",
       "      <td>C0127</td>\n",
       "      <td>Kathryn Stevens</td>\n",
       "      <td>Europe</td>\n",
       "      <td>2024-04-04</td>\n",
       "      <td>P067</td>\n",
       "      <td>ComfortLiving Bluetooth Speaker</td>\n",
       "      <td>Electronics</td>\n",
       "      <td>2024-04-25 07:38:55</td>\n",
       "      <td>300.68</td>\n",
       "      <td>1</td>\n",
       "      <td>300.68</td>\n",
       "      <td>2024Q2</td>\n",
       "    </tr>\n",
       "    <tr>\n",
       "      <th>T00272</th>\n",
       "      <td>C0087</td>\n",
       "      <td>Travis Campbell</td>\n",
       "      <td>South America</td>\n",
       "      <td>2024-04-11</td>\n",
       "      <td>P067</td>\n",
       "      <td>ComfortLiving Bluetooth Speaker</td>\n",
       "      <td>Electronics</td>\n",
       "      <td>2024-03-26 22:55:37</td>\n",
       "      <td>300.68</td>\n",
       "      <td>2</td>\n",
       "      <td>601.36</td>\n",
       "      <td>2024Q1</td>\n",
       "    </tr>\n",
       "    <tr>\n",
       "      <th>T00363</th>\n",
       "      <td>C0070</td>\n",
       "      <td>Timothy Perez</td>\n",
       "      <td>Europe</td>\n",
       "      <td>2022-03-15</td>\n",
       "      <td>P067</td>\n",
       "      <td>ComfortLiving Bluetooth Speaker</td>\n",
       "      <td>Electronics</td>\n",
       "      <td>2024-03-21 15:10:10</td>\n",
       "      <td>300.68</td>\n",
       "      <td>3</td>\n",
       "      <td>902.04</td>\n",
       "      <td>2024Q1</td>\n",
       "    </tr>\n",
       "  </tbody>\n",
       "</table>\n",
       "</div>"
      ],
      "text/plain": [
       "              CustomerID     CustomerName         Region SignupDate ProductID  \\\n",
       "TransactionID                                                                   \n",
       "T00001             C0199   Andrea Jenkins         Europe 2022-12-03      P067   \n",
       "T00112             C0146  Brittany Harvey           Asia 2024-09-04      P067   \n",
       "T00166             C0127  Kathryn Stevens         Europe 2024-04-04      P067   \n",
       "T00272             C0087  Travis Campbell  South America 2024-04-11      P067   \n",
       "T00363             C0070    Timothy Perez         Europe 2022-03-15      P067   \n",
       "\n",
       "                                   ProductName     Category  \\\n",
       "TransactionID                                                 \n",
       "T00001         ComfortLiving Bluetooth Speaker  Electronics   \n",
       "T00112         ComfortLiving Bluetooth Speaker  Electronics   \n",
       "T00166         ComfortLiving Bluetooth Speaker  Electronics   \n",
       "T00272         ComfortLiving Bluetooth Speaker  Electronics   \n",
       "T00363         ComfortLiving Bluetooth Speaker  Electronics   \n",
       "\n",
       "                  TransactionDate   Price  Quantity  TotalValue  Quater  \n",
       "TransactionID                                                            \n",
       "T00001        2024-08-25 12:38:23  300.68         1      300.68  2024Q3  \n",
       "T00112        2024-05-27 22:23:54  300.68         1      300.68  2024Q2  \n",
       "T00166        2024-04-25 07:38:55  300.68         1      300.68  2024Q2  \n",
       "T00272        2024-03-26 22:55:37  300.68         2      601.36  2024Q1  \n",
       "T00363        2024-03-21 15:10:10  300.68         3      902.04  2024Q1  "
      ]
     },
     "execution_count": 32,
     "metadata": {},
     "output_type": "execute_result"
    }
   ],
   "source": [
    "ordered_result.head()"
   ]
  },
  {
   "cell_type": "code",
   "execution_count": 33,
   "id": "2b88f361",
   "metadata": {},
   "outputs": [
    {
     "data": {
      "text/plain": [
       "(1000, 12)"
      ]
     },
     "execution_count": 33,
     "metadata": {},
     "output_type": "execute_result"
    }
   ],
   "source": [
    "ordered_result.shape"
   ]
  },
  {
   "cell_type": "code",
   "execution_count": 34,
   "id": "96e0ecad",
   "metadata": {},
   "outputs": [
    {
     "data": {
      "text/html": [
       "<div>\n",
       "<style scoped>\n",
       "    .dataframe tbody tr th:only-of-type {\n",
       "        vertical-align: middle;\n",
       "    }\n",
       "\n",
       "    .dataframe tbody tr th {\n",
       "        vertical-align: top;\n",
       "    }\n",
       "\n",
       "    .dataframe thead th {\n",
       "        text-align: right;\n",
       "    }\n",
       "</style>\n",
       "<table border=\"1\" class=\"dataframe\">\n",
       "  <thead>\n",
       "    <tr style=\"text-align: right;\">\n",
       "      <th></th>\n",
       "      <th>Price</th>\n",
       "      <th>Quantity</th>\n",
       "      <th>TotalValue</th>\n",
       "    </tr>\n",
       "  </thead>\n",
       "  <tbody>\n",
       "    <tr>\n",
       "      <th>count</th>\n",
       "      <td>1000.00000</td>\n",
       "      <td>1000.000000</td>\n",
       "      <td>1000.000000</td>\n",
       "    </tr>\n",
       "    <tr>\n",
       "      <th>mean</th>\n",
       "      <td>272.55407</td>\n",
       "      <td>2.537000</td>\n",
       "      <td>689.995560</td>\n",
       "    </tr>\n",
       "    <tr>\n",
       "      <th>std</th>\n",
       "      <td>140.73639</td>\n",
       "      <td>1.117981</td>\n",
       "      <td>493.144478</td>\n",
       "    </tr>\n",
       "    <tr>\n",
       "      <th>min</th>\n",
       "      <td>16.08000</td>\n",
       "      <td>1.000000</td>\n",
       "      <td>16.080000</td>\n",
       "    </tr>\n",
       "    <tr>\n",
       "      <th>25%</th>\n",
       "      <td>147.95000</td>\n",
       "      <td>2.000000</td>\n",
       "      <td>295.295000</td>\n",
       "    </tr>\n",
       "    <tr>\n",
       "      <th>50%</th>\n",
       "      <td>299.93000</td>\n",
       "      <td>3.000000</td>\n",
       "      <td>588.880000</td>\n",
       "    </tr>\n",
       "    <tr>\n",
       "      <th>75%</th>\n",
       "      <td>404.40000</td>\n",
       "      <td>4.000000</td>\n",
       "      <td>1011.660000</td>\n",
       "    </tr>\n",
       "    <tr>\n",
       "      <th>max</th>\n",
       "      <td>497.76000</td>\n",
       "      <td>4.000000</td>\n",
       "      <td>1991.040000</td>\n",
       "    </tr>\n",
       "  </tbody>\n",
       "</table>\n",
       "</div>"
      ],
      "text/plain": [
       "            Price     Quantity   TotalValue\n",
       "count  1000.00000  1000.000000  1000.000000\n",
       "mean    272.55407     2.537000   689.995560\n",
       "std     140.73639     1.117981   493.144478\n",
       "min      16.08000     1.000000    16.080000\n",
       "25%     147.95000     2.000000   295.295000\n",
       "50%     299.93000     3.000000   588.880000\n",
       "75%     404.40000     4.000000  1011.660000\n",
       "max     497.76000     4.000000  1991.040000"
      ]
     },
     "execution_count": 34,
     "metadata": {},
     "output_type": "execute_result"
    }
   ],
   "source": [
    "ordered_result.describe()"
   ]
  },
  {
   "cell_type": "code",
   "execution_count": 35,
   "id": "fecc63a0",
   "metadata": {},
   "outputs": [
    {
     "data": {
      "text/plain": [
       "CustomerID                 object\n",
       "CustomerName               object\n",
       "Region                     object\n",
       "SignupDate         datetime64[ns]\n",
       "ProductID                  object\n",
       "ProductName                object\n",
       "Category                   object\n",
       "TransactionDate    datetime64[ns]\n",
       "Price                     float64\n",
       "Quantity                    int64\n",
       "TotalValue                float64\n",
       "Quater              period[Q-DEC]\n",
       "dtype: object"
      ]
     },
     "execution_count": 35,
     "metadata": {},
     "output_type": "execute_result"
    }
   ],
   "source": [
    "ordered_result.dtypes"
   ]
  },
  {
   "cell_type": "code",
   "execution_count": 36,
   "id": "5f9a298f",
   "metadata": {},
   "outputs": [
    {
     "name": "stdout",
     "output_type": "stream",
     "text": [
      "<class 'pandas.core.frame.DataFrame'>\n",
      "Index: 1000 entries, T00001 to T00157\n",
      "Data columns (total 12 columns):\n",
      " #   Column           Non-Null Count  Dtype         \n",
      "---  ------           --------------  -----         \n",
      " 0   CustomerID       1000 non-null   object        \n",
      " 1   CustomerName     1000 non-null   object        \n",
      " 2   Region           1000 non-null   object        \n",
      " 3   SignupDate       1000 non-null   datetime64[ns]\n",
      " 4   ProductID        1000 non-null   object        \n",
      " 5   ProductName      1000 non-null   object        \n",
      " 6   Category         1000 non-null   object        \n",
      " 7   TransactionDate  1000 non-null   datetime64[ns]\n",
      " 8   Price            1000 non-null   float64       \n",
      " 9   Quantity         1000 non-null   int64         \n",
      " 10  TotalValue       1000 non-null   float64       \n",
      " 11  Quater           1000 non-null   period[Q-DEC] \n",
      "dtypes: datetime64[ns](2), float64(2), int64(1), object(6), period[Q-DEC](1)\n",
      "memory usage: 101.6+ KB\n"
     ]
    }
   ],
   "source": [
    "ordered_result.info()"
   ]
  },
  {
   "cell_type": "code",
   "execution_count": 37,
   "id": "9cfe4db9",
   "metadata": {},
   "outputs": [
    {
     "data": {
      "text/plain": [
       "CustomerID         0\n",
       "CustomerName       0\n",
       "Region             0\n",
       "SignupDate         0\n",
       "ProductID          0\n",
       "ProductName        0\n",
       "Category           0\n",
       "TransactionDate    0\n",
       "Price              0\n",
       "Quantity           0\n",
       "TotalValue         0\n",
       "Quater             0\n",
       "dtype: int64"
      ]
     },
     "execution_count": 37,
     "metadata": {},
     "output_type": "execute_result"
    }
   ],
   "source": [
    "ordered_result.isna().sum() #Our dataset doesn't have any null values"
   ]
  },
  {
   "cell_type": "markdown",
   "id": "63d075ad",
   "metadata": {},
   "source": [
    "# EDA  (Exploratory Data Analysis)"
   ]
  },
  {
   "cell_type": "code",
   "execution_count": 38,
   "id": "41bfd46c",
   "metadata": {},
   "outputs": [
    {
     "data": {
      "image/png": "[encoded data removed]",
      "text/plain": [
       "<Figure size 640x480 with 1 Axes>"
      ]
     },
     "metadata": {},
     "output_type": "display_data"
    }
   ],
   "source": [
    "sns.set_style(\"darkgrid\")\n",
    "sns.countplot(data=ordered_result,x='Region',hue='Region')\n",
    "plt.title('Region wise Transactions')\n",
    "plt.ylabel('Transaction Count')\n",
    "plt.show()"
   ]
  },
  {
   "cell_type": "code",
   "execution_count": 39,
   "id": "966b4caf",
   "metadata": {},
   "outputs": [
    {
     "data": {
      "image/png": "[encoded data removed]",
      "text/plain": [
       "<Figure size 640x480 with 1 Axes>"
      ]
     },
     "metadata": {},
     "output_type": "display_data"
    }
   ],
   "source": [
    "sns.barplot(data=ordered_result,x=\"Region\",y='TotalValue',hue='Region')\n",
    "plt.ylabel(\"Sales\")\n",
    "plt.show()"
   ]
  },
  {
   "cell_type": "markdown",
   "id": "7e015313",
   "metadata": {},
   "source": [
    "#### >As we can clearly infer that the no. of transactions in \"South America\" is the highest followed by \"North America\"\n",
    "#### >\"South America\" has done the highest sales"
   ]
  },
  {
   "cell_type": "code",
   "execution_count": 40,
   "id": "c55974d5",
   "metadata": {},
   "outputs": [
    {
     "data": {
      "image/png": "[encoded data removed]",
      "text/plain": [
       "<Figure size 640x480 with 1 Axes>"
      ]
     },
     "metadata": {},
     "output_type": "display_data"
    }
   ],
   "source": [
    "sns.countplot(data=ordered_result,x='Category',hue='Category',palette='terrain_r')\n",
    "plt.title(\"Category by Transactions\")\n",
    "plt.ylabel(\"Transaction count\")\n",
    "plt.show()"
   ]
  },
  {
   "cell_type": "code",
   "execution_count": 41,
   "id": "fb941ed6",
   "metadata": {},
   "outputs": [
    {
     "data": {
      "image/png": "[encoded data removed]",
      "text/plain": [
       "<Figure size 640x480 with 1 Axes>"
      ]
     },
     "metadata": {},
     "output_type": "display_data"
    }
   ],
   "source": [
    "sns.barplot(data=ordered_result,x=\"Category\",y='TotalValue',hue='Category',palette='terrain_r')\n",
    "plt.ylabel(\"Sales\")\n",
    "plt.show()"
   ]
  },
  {
   "cell_type": "markdown",
   "id": "6e3c0834",
   "metadata": {},
   "source": [
    "##### >As we can see the category \"Books\" have the highest transaction count followed by \"Electronics\"\n",
    "##### >The category \"Clothing\" has the highest sales numbers"
   ]
  },
  {
   "cell_type": "code",
   "execution_count": 42,
   "id": "55963d7c",
   "metadata": {},
   "outputs": [
    {
     "name": "stdout",
     "output_type": "stream",
     "text": [
      "   Quater  TotalValue\n",
      "0  2023Q4     3769.52\n",
      "1  2024Q1   165664.39\n",
      "2  2024Q2   170817.98\n",
      "3  2024Q3   205406.88\n",
      "4  2024Q4   144336.79\n"
     ]
    }
   ],
   "source": [
    "quarterly_sales = ordered_result.groupby(\"Quater\")[\"TotalValue\"].sum().reset_index()\n",
    "print(quarterly_sales)"
   ]
  },
  {
   "cell_type": "code",
   "execution_count": 43,
   "id": "e42812fb",
   "metadata": {},
   "outputs": [
    {
     "data": {
      "image/png": "[encoded data removed]",
      "text/plain": [
       "<Figure size 1000x500 with 1 Axes>"
      ]
     },
     "metadata": {},
     "output_type": "display_data"
    }
   ],
   "source": [
    "plt.figure(figsize=(10, 5))\n",
    "plt.plot(quarterly_sales[\"Quater\"].astype(str), quarterly_sales[\"TotalValue\"], marker=\"o\", linestyle=\"-\")\n",
    "plt.xlabel(\"Quarter\")\n",
    "plt.ylabel(\"Total Sales\")\n",
    "plt.title(\"Sales by Quarter\")\n",
    "plt.xticks(rotation=45)\n",
    "plt.grid(True)\n",
    "plt.show()"
   ]
  },
  {
   "cell_type": "markdown",
   "id": "6f0aac94",
   "metadata": {},
   "source": [
    "##### >We had the peak sales in the \"Third quarter of 2024\""
   ]
  },
  {
   "cell_type": "code",
   "execution_count": 44,
   "id": "20f22cc9",
   "metadata": {},
   "outputs": [
    {
     "data": {
      "text/html": [
       "<div>\n",
       "<style scoped>\n",
       "    .dataframe tbody tr th:only-of-type {\n",
       "        vertical-align: middle;\n",
       "    }\n",
       "\n",
       "    .dataframe tbody tr th {\n",
       "        vertical-align: top;\n",
       "    }\n",
       "\n",
       "    .dataframe thead th {\n",
       "        text-align: right;\n",
       "    }\n",
       "</style>\n",
       "<table border=\"1\" class=\"dataframe\">\n",
       "  <thead>\n",
       "    <tr style=\"text-align: right;\">\n",
       "      <th>Category</th>\n",
       "      <th>Books</th>\n",
       "      <th>Clothing</th>\n",
       "      <th>Electronics</th>\n",
       "      <th>Home Decor</th>\n",
       "    </tr>\n",
       "    <tr>\n",
       "      <th>Quater</th>\n",
       "      <th></th>\n",
       "      <th></th>\n",
       "      <th></th>\n",
       "      <th></th>\n",
       "    </tr>\n",
       "  </thead>\n",
       "  <tbody>\n",
       "    <tr>\n",
       "      <th>2023Q4</th>\n",
       "      <td>NaN</td>\n",
       "      <td>1585.36</td>\n",
       "      <td>1870.24</td>\n",
       "      <td>313.92</td>\n",
       "    </tr>\n",
       "    <tr>\n",
       "      <th>2024Q1</th>\n",
       "      <td>47679.77</td>\n",
       "      <td>33596.39</td>\n",
       "      <td>40726.04</td>\n",
       "      <td>43662.19</td>\n",
       "    </tr>\n",
       "    <tr>\n",
       "      <th>2024Q2</th>\n",
       "      <td>49333.45</td>\n",
       "      <td>44907.97</td>\n",
       "      <td>40065.55</td>\n",
       "      <td>36511.01</td>\n",
       "    </tr>\n",
       "    <tr>\n",
       "      <th>2024Q3</th>\n",
       "      <td>52734.24</td>\n",
       "      <td>49959.29</td>\n",
       "      <td>62014.33</td>\n",
       "      <td>40699.02</td>\n",
       "    </tr>\n",
       "    <tr>\n",
       "      <th>2024Q4</th>\n",
       "      <td>42400.01</td>\n",
       "      <td>36121.65</td>\n",
       "      <td>36107.34</td>\n",
       "      <td>29707.79</td>\n",
       "    </tr>\n",
       "  </tbody>\n",
       "</table>\n",
       "</div>"
      ],
      "text/plain": [
       "Category     Books  Clothing  Electronics  Home Decor\n",
       "Quater                                               \n",
       "2023Q4         NaN   1585.36      1870.24      313.92\n",
       "2024Q1    47679.77  33596.39     40726.04    43662.19\n",
       "2024Q2    49333.45  44907.97     40065.55    36511.01\n",
       "2024Q3    52734.24  49959.29     62014.33    40699.02\n",
       "2024Q4    42400.01  36121.65     36107.34    29707.79"
      ]
     },
     "execution_count": 44,
     "metadata": {},
     "output_type": "execute_result"
    }
   ],
   "source": [
    "category_sales = ordered_result.groupby([\"Quater\", \"Category\"])[\"TotalValue\"].sum().unstack()\n",
    "category_sales"
   ]
  },
  {
   "cell_type": "code",
   "execution_count": 45,
   "id": "f3121f9b",
   "metadata": {},
   "outputs": [
    {
     "data": {
      "image/png": "[encoded data removed]",
      "text/plain": [
       "<Figure size 1200x600 with 1 Axes>"
      ]
     },
     "metadata": {},
     "output_type": "display_data"
    }
   ],
   "source": [
    "category_sales.plot(kind=\"bar\", figsize=(12, 6))\n",
    "plt.xlabel(\"Quater\")\n",
    "plt.ylabel(\"Total Sales\")\n",
    "plt.title(\"Sales by Quarter and Category\")\n",
    "plt.legend(title=\"Category\")\n",
    "plt.xticks(rotation=45)\n",
    "plt.show()"
   ]
  },
  {
   "cell_type": "code",
   "execution_count": 46,
   "id": "d30ace56",
   "metadata": {},
   "outputs": [
    {
     "data": {
      "text/html": [
       "<div>\n",
       "<style scoped>\n",
       "    .dataframe tbody tr th:only-of-type {\n",
       "        vertical-align: middle;\n",
       "    }\n",
       "\n",
       "    .dataframe tbody tr th {\n",
       "        vertical-align: top;\n",
       "    }\n",
       "\n",
       "    .dataframe thead th {\n",
       "        text-align: right;\n",
       "    }\n",
       "</style>\n",
       "<table border=\"1\" class=\"dataframe\">\n",
       "  <thead>\n",
       "    <tr style=\"text-align: right;\">\n",
       "      <th></th>\n",
       "      <th>CustomerID</th>\n",
       "      <th>TotalValue</th>\n",
       "      <th>CustomerName</th>\n",
       "      <th>Region</th>\n",
       "      <th>SignupDate</th>\n",
       "    </tr>\n",
       "  </thead>\n",
       "  <tbody>\n",
       "    <tr>\n",
       "      <th>0</th>\n",
       "      <td>C0141</td>\n",
       "      <td>10673.87</td>\n",
       "      <td>Paul Parsons</td>\n",
       "      <td>Europe</td>\n",
       "      <td>2023-02-23</td>\n",
       "    </tr>\n",
       "    <tr>\n",
       "      <th>1</th>\n",
       "      <td>C0054</td>\n",
       "      <td>8040.39</td>\n",
       "      <td>Bruce Rhodes</td>\n",
       "      <td>Asia</td>\n",
       "      <td>2024-09-29</td>\n",
       "    </tr>\n",
       "    <tr>\n",
       "      <th>2</th>\n",
       "      <td>C0065</td>\n",
       "      <td>7663.70</td>\n",
       "      <td>Gerald Hines</td>\n",
       "      <td>North America</td>\n",
       "      <td>2024-07-10</td>\n",
       "    </tr>\n",
       "    <tr>\n",
       "      <th>3</th>\n",
       "      <td>C0156</td>\n",
       "      <td>7634.45</td>\n",
       "      <td>William Adams</td>\n",
       "      <td>North America</td>\n",
       "      <td>2023-08-19</td>\n",
       "    </tr>\n",
       "    <tr>\n",
       "      <th>4</th>\n",
       "      <td>C0082</td>\n",
       "      <td>7572.91</td>\n",
       "      <td>Aimee Taylor</td>\n",
       "      <td>South America</td>\n",
       "      <td>2022-05-13</td>\n",
       "    </tr>\n",
       "    <tr>\n",
       "      <th>5</th>\n",
       "      <td>C0188</td>\n",
       "      <td>7111.32</td>\n",
       "      <td>Anna Ball</td>\n",
       "      <td>South America</td>\n",
       "      <td>2022-05-17</td>\n",
       "    </tr>\n",
       "    <tr>\n",
       "      <th>6</th>\n",
       "      <td>C0059</td>\n",
       "      <td>7073.28</td>\n",
       "      <td>Mrs. Kimberly Wright</td>\n",
       "      <td>North America</td>\n",
       "      <td>2024-04-07</td>\n",
       "    </tr>\n",
       "    <tr>\n",
       "      <th>7</th>\n",
       "      <td>C0028</td>\n",
       "      <td>6819.57</td>\n",
       "      <td>Jennifer Pena</td>\n",
       "      <td>Asia</td>\n",
       "      <td>2024-06-29</td>\n",
       "    </tr>\n",
       "    <tr>\n",
       "      <th>8</th>\n",
       "      <td>C0099</td>\n",
       "      <td>6715.72</td>\n",
       "      <td>Rodney Eaton</td>\n",
       "      <td>South America</td>\n",
       "      <td>2023-01-29</td>\n",
       "    </tr>\n",
       "    <tr>\n",
       "      <th>9</th>\n",
       "      <td>C0165</td>\n",
       "      <td>6708.10</td>\n",
       "      <td>Juan Mcdaniel</td>\n",
       "      <td>South America</td>\n",
       "      <td>2022-04-09</td>\n",
       "    </tr>\n",
       "  </tbody>\n",
       "</table>\n",
       "</div>"
      ],
      "text/plain": [
       "  CustomerID  TotalValue          CustomerName         Region SignupDate\n",
       "0      C0141    10673.87          Paul Parsons         Europe 2023-02-23\n",
       "1      C0054     8040.39          Bruce Rhodes           Asia 2024-09-29\n",
       "2      C0065     7663.70          Gerald Hines  North America 2024-07-10\n",
       "3      C0156     7634.45         William Adams  North America 2023-08-19\n",
       "4      C0082     7572.91          Aimee Taylor  South America 2022-05-13\n",
       "5      C0188     7111.32             Anna Ball  South America 2022-05-17\n",
       "6      C0059     7073.28  Mrs. Kimberly Wright  North America 2024-04-07\n",
       "7      C0028     6819.57         Jennifer Pena           Asia 2024-06-29\n",
       "8      C0099     6715.72          Rodney Eaton  South America 2023-01-29\n",
       "9      C0165     6708.10         Juan Mcdaniel  South America 2022-04-09"
      ]
     },
     "execution_count": 46,
     "metadata": {},
     "output_type": "execute_result"
    }
   ],
   "source": [
    "top_customers = ordered_result.groupby(\"CustomerID\")[\"TotalValue\"].sum().nlargest(10)\n",
    "pd.merge(left=top_customers,right=customers,on='CustomerID')\n"
   ]
  },
  {
   "cell_type": "code",
   "execution_count": 47,
   "id": "3cd82169",
   "metadata": {},
   "outputs": [
    {
     "data": {
      "text/plain": [
       "C0156    11\n",
       "C0109    11\n",
       "C0141    10\n",
       "C0175    10\n",
       "C0008    10\n",
       "C0065    10\n",
       "C0093     9\n",
       "C0084     9\n",
       "C0075     9\n",
       "C0147     9\n",
       "Name: CustomerID, dtype: int64"
      ]
     },
     "execution_count": 47,
     "metadata": {},
     "output_type": "execute_result"
    }
   ],
   "source": [
    "ordered_result['CustomerID'].value_counts().head(10)"
   ]
  },
  {
   "cell_type": "code",
   "execution_count": 48,
   "id": "4d3b8f66",
   "metadata": {},
   "outputs": [
    {
     "name": "stderr",
     "output_type": "stream",
     "text": [
      "C:\\Users\\saswa\\AppData\\Local\\Temp\\ipykernel_2156\\642384135.py:2: FutureWarning: \n",
      "\n",
      "Passing `palette` without assigning `hue` is deprecated and will be removed in v0.14.0. Assign the `y` variable to `hue` and set `legend=False` for the same effect.\n",
      "\n",
      "  sns.barplot(x=top_products.values, y=top_products.index, palette=\"Blues_r\")\n"
     ]
    },
    {
     "data": {
      "image/png": "[encoded data removed]",
      "text/plain": [
       "<Figure size 640x480 with 1 Axes>"
      ]
     },
     "metadata": {},
     "output_type": "display_data"
    }
   ],
   "source": [
    "top_products = ordered_result.groupby(\"ProductName\")[\"TotalValue\"].sum().nlargest(10)\n",
    "sns.barplot(x=top_products.values, y=top_products.index, palette=\"Blues_r\")\n",
    "\n",
    "# Labels and Title\n",
    "plt.xlabel(\"Total Sales Revenue\", fontsize=12)\n",
    "plt.ylabel(\"Product Name\", fontsize=12)\n",
    "plt.title(\"Top 10 Best-Selling Products\", fontsize=14)\n",
    "plt.show()"
   ]
  },
  {
   "cell_type": "markdown",
   "id": "9f509a3c",
   "metadata": {},
   "source": []
  }
 ],
 "metadata": {
  "kernelspec": {
   "display_name": "Python 3 (ipykernel)",
   "language": "python",
   "name": "python3"
  },
  "language_info": {
   "codemirror_mode": {
    "name": "ipython",
    "version": 3
   },
   "file_extension": ".py",
   "mimetype": "text/x-python",
   "name": "python",
   "nbconvert_exporter": "python",
   "pygments_lexer": "ipython3",
   "version": "3.10.9"
  }
 },
 "nbformat": 4,
 "nbformat_minor": 5
}
